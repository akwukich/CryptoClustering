# Import required libraries and dependencies
import pandas as pd
from sklearn.cluster import KMeans
from sklearn.decomposition import PCA
from sklearn.preprocessing import StandardScaler


# Load the data into a Pandas DataFrame and make the index the "coin_id" column.
market_data_df = pd.read_csv("Resources/crypto_market_data.csv", index_col="coin_id")

# Display sample data
market_data_df.head(10)


# Generate summary statistics
market_data_df.describe()





market_data_df.columns


# Use the `StandardScaler()` module from scikit-learn to normalize the data from the CSV file
market_data_scaled = StandardScaler().fit_transform(market_data_df[['price_change_percentage_24h', 'price_change_percentage_7d',
       'price_change_percentage_14d', 'price_change_percentage_30d',
       'price_change_percentage_60d', 'price_change_percentage_200d',
       'price_change_percentage_1y']])

market_data_scaled[:5]


# Create a DataFrame with the scaled data
market_data_scaled_df = pd.DataFrame(market_data_scaled, columns=['price_change_percentage_24h', 'price_change_percentage_7d',
       'price_change_percentage_14d', 'price_change_percentage_30d',
       'price_change_percentage_60d', 'price_change_percentage_200d',
       'price_change_percentage_1y'])
market_data_scaled_df.head()


# Copy the crypto names from the original data
market_data_df.index


market_data_scaled_df["coinid"] = ['bitcoin', 'ethereum', 'tether', 'ripple', 'bitcoin-cash',
       'binancecoin', 'chainlink', 'cardano', 'litecoin', 'bitcoin-cash-sv',
       'crypto-com-chain', 'usd-coin', 'eos', 'monero', 'tron', 'tezos', 'okb',
       'stellar', 'cosmos', 'cdai', 'neo', 'wrapped-bitcoin', 'leo-token',
       'huobi-token', 'nem', 'binance-usd', 'iota', 'vechain', 'zcash',
       'theta-token', 'dash', 'ethereum-classic', 'ethlend', 'maker', 'havven',
       'omisego', 'celsius-degree-token', 'ontology', 'ftx-token', 'true-usd',
       'digibyte']
market_data_scaled_df.head()


# Set the coinid column as index
market_data_scaled_df = market_data_scaled_df.set_index("coinid")


# Display sample data
market_data_scaled_df.head()





# Create a list with the number of k-values to try
# Use a range from 1 to 11
k = list(range(1, 11))

# Create an empty list to store the inertia values
inertia = []

# Create a for loop to compute the inertia with each possible value of k
# Inside the loop:
# 1. Create a KMeans model using the loop counter for the n_clusters
# 2. Fit the model to the data using the scaled DataFrame
# 3. Append the model.inertia_ to the inertia list
for i in k:
    model = KMeans(n_clusters=i, n_init='auto', random_state=1)
    model.fit(market_data_scaled_df)
    inertia.append(model.inertia_)

# Create a dictionary with the data to plot the Elbow curve
elbow_data = {
    "k": k,
    "inertia": inertia
}

# Create a DataFrame with the data to plot the Elbow curve
elbow_df = pd.DataFrame(elbow_data)

# Display the DataFrame
elbow_df


# Plot a line chart with all the inertia values computed with 
# the different values of k to visually identify the optimal value for k.
elbow_df.plot.line(x="k", y="inertia", title="Elbow Curve", xticks=k)


# Determine the rate of decrease between each k value. 
k = elbow_data["k"]
inertia = elbow_data["inertia"]
for i in range(1, len(k)):
    percentage_decrease = (inertia[i-1] - inertia[i]) / inertia[i-1] * 100
    print(f"Percentage decrease from k={k[i-1]} to k={k[i]}: {percentage_decrease:.2f}%")








# Initialize the K-Means model using the best value for k
k_4_model = KMeans(n_clusters=4, n_init='auto', random_state=1)


# Fit the K-Means model using the scaled data
k_4_model.fit(market_data_scaled_df)


# Predict the clusters to group the cryptocurrencies using the scaled data
k_4 = k_4_model.predict(market_data_scaled_df)

# View the resulting array of cluster values.
k_4


# Create a copy of the DataFrame
market_data_scaled_df_copy = market_data_scaled_df.copy()


# Add a new column to the DataFrame with the predicted clusters
market_data_scaled_df_copy["crypto_cluster"] = k_4

# Display sample data
market_data_scaled_df_copy.head()


# Create a scatter plot using Pandas plot by setting 
# `x="price_change_percentage_24h"` and `y="price_change_percentage_7d"`.
# Use "rainbow" for the color to better visualize the data.
market_data_scaled_df_copy.plot.scatter(
    x="price_change_percentage_24h", 
    y="price_change_percentage_7d", 
    c="crypto_cluster",
    title = "Scatter Plot by Crypto Cluster: k=4",
    colormap='rainbow'
)


market_data_scaled_df_copy['crypto_cluster'].value_counts()





# Create a PCA model instance and set `n_components=3`.
pca=PCA(n_components=3)


# Use the PCA model with `fit_transform` on the original scaled DataFrame to reduce to three principal components.
market_data_pca = pca.fit_transform(market_data_scaled_df)

# View the first five rows of the DataFrame. 
market_data_pca[:5]


# Retrieve the explained variance to determine how much information  can be attributed to each principal component.
pca.explained_variance_ratio_





# Create a new DataFrame with the PCA data.
# Note: The code for this step is provided for you

# Creating a DataFrame with the PCA data
market_data_pca_df = pd.DataFrame(
    market_data_pca,
    columns=["PCA1", "PCA2", "PCA3"]
)

# Copy the crypto names from the original data
# market_data_df.index
""" ['bitcoin', 'ethereum', 'tether', 'ripple', 'bitcoin-cash',
       'binancecoin', 'chainlink', 'cardano', 'litecoin', 'bitcoin-cash-sv',
       'crypto-com-chain', 'usd-coin', 'eos', 'monero', 'tron', 'tezos', 'okb',
       'stellar', 'cosmos', 'cdai', 'neo', 'wrapped-bitcoin', 'leo-token',
       'huobi-token', 'nem', 'binance-usd', 'iota', 'vechain', 'zcash',
       'theta-token', 'dash', 'ethereum-classic', 'ethlend', 'maker', 'havven',
       'omisego', 'celsius-degree-token', 'ontology', 'ftx-token', 'true-usd',
       'digibyte'] """

# Set the coinid column as index
market_data_pca_df["coinid"] = ['bitcoin', 'ethereum', 'tether', 'ripple', 'bitcoin-cash',
       'binancecoin', 'chainlink', 'cardano', 'litecoin', 'bitcoin-cash-sv',
       'crypto-com-chain', 'usd-coin', 'eos', 'monero', 'tron', 'tezos', 'okb',
       'stellar', 'cosmos', 'cdai', 'neo', 'wrapped-bitcoin', 'leo-token',
       'huobi-token', 'nem', 'binance-usd', 'iota', 'vechain', 'zcash',
       'theta-token', 'dash', 'ethereum-classic', 'ethlend', 'maker', 'havven',
       'omisego', 'celsius-degree-token', 'ontology', 'ftx-token', 'true-usd',
       'digibyte']


market_data_pca_df = market_data_pca_df.set_index("coinid")
# Display sample data
market_data_pca_df





# Create a list with the number of k-values to try
# Use a range from 1 to 11

k_pca = list(range(1, 11))
# Create an empty list to store the inertia values
inertia = []

# Create a for loop to compute the inertia with each possible value of k
# Inside the loop:
# 1. Create a KMeans model using the loop counter for the n_clusters
# 2. Fit the model to the data using PCA DataFrame.
# 3. Append the model.inertia_ to the inertia list
for i in k:
    pca_model = KMeans(n_clusters=i, n_init='auto', random_state=1)
    pca_model.fit(market_data_pca_df)
    inertia.append(pca_model.inertia_)

# Create a dictionary with the data to plot the Elbow curve
elbow_data_pca = {"k_pca": k_pca, "inertia": inertia}

# Create a DataFrame with the data to plot the Elbow curve
elbow_pca_df = pd.DataFrame(elbow_data_pca)

# Display the DataFrame
elbow_pca_df.head()


# Plot a line chart with all the inertia values computed with 
# the different values of k to visually identify the optimal value for k.
fig_2 = elbow_pca_df.plot.line(
    x="k_pca", 
    y="inertia", 
    title="PCA Elbow Curve", 
    xticks=k
)
fig_2


# Determine the rate of decrease between each k value. 
k = elbow_pca_df["k_pca"]
inertia = elbow_pca_df["inertia"]
for i in range(1, len(k)):
    percentage_decrease = (inertia[i-1] - inertia[i]) / inertia[i-1] * 100
    print(f"Percentage decrease from k={k[i-1]} to k={k[i]}: {percentage_decrease:.2f}%")








# Initialize the K-Means model using the best value for k
k_4_pca_model = KMeans(n_clusters=4, n_init='auto', random_state=1)


# Fit the K-Means model using the PCA data
k_4_pca_model.fit(market_data_pca_df)


# Predict the clusters to group the cryptocurrencies using the PCA data
k_4_pca = k_4_pca_model.predict(market_data_pca_df)

# Print the resulting array of cluster values.
k_4_pca


# Create a copy of the DataFrame with the PCA data
market_data_pca_df_2 = market_data_pca_df.copy()


# Add a new column to the DataFrame with the predicted clusters
market_data_pca_df_2["predicted_cluster"] = k_4_pca

# Display sample data
market_data_pca_df_2.head()


# Create a scatter plot using hvPlot by setting `x="PCA1"` and `y="PCA2"`. 
market_data_pca_df_2.plot.scatter(
    x="PCA1", 
    y="PCA2", 
    c="predicted_cluster",
    title = "PCA Scatter Plot",
    colormap='rainbow'
)





# Use the columns from the original scaled DataFrame as the index.
pca_component_weights = pd.DataFrame(pca.components_.T, columns=['PCA1', 'PCA2', 'PCA3'], index=market_data_scaled_df.columns)
pca_component_weights






